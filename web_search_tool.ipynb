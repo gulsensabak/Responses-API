{
 "cells": [
  {
   "cell_type": "code",
   "execution_count": null,
   "id": "cb2f47b4",
   "metadata": {},
   "outputs": [],
   "source": [
    "from openai import OpenAI\n",
    "\n",
    "client = OpenAI(api_key = \"sk-proj\")"
   ]
  },
  {
   "cell_type": "code",
   "execution_count": null,
   "id": "9db3f3df",
   "metadata": {},
   "outputs": [
    {
     "name": "stdout",
     "output_type": "stream",
     "text": [
      "completed\n",
      "FileCounts(cancelled=0, completed=2, failed=0, in_progress=0, total=2)\n",
      "Apple's fiscal Q1 2025 earnings report presents a nuanced picture of the company's financial health. The company achieved a record revenue of $124.3 billion, marking a 4% increase from the same quarter in the previous year. Earnings per share (EPS) stood at $2.40, surpassing analyst expectations of $2.35. ([9to5mac.com](https://9to5mac.com/2025/01/30/apple-reports-record-q1-2025-earnings-with-124-30-billion-in-revenue/?utm_source=openai))\n",
      "\n",
      "**Product Segment Performance:**\n",
      "\n",
      "- **iPhone:** Sales reached $69.1 billion, slightly below analyst projections of $70.7 billion. This shortfall is attributed to intensified competition and a slower rollout of AI features in certain markets. ([reuters.com](https://www.reuters.com/technology/apple-profit-tops-wall-street-target-even-iphone-china-sales-fall-short-2025-01-30/?utm_source=openai))\n",
      "\n",
      "- **Mac and iPad:** Both segments exhibited robust growth, with Mac revenue increasing by 16% to $8.99 billion and iPad revenue rising by 15% to $8.08 billion. ([captide.co](https://www.captide.co/insights/apple-q1-2025?utm_source=openai))\n",
      "\n",
      "- **Services:** This segment, encompassing offerings like Apple Music and the App Store, saw a 14% year-over-year increase, generating $26.34 billion in revenue. ([zacks.com](https://www.zacks.com/stock/news/2407281/apple-q1-earnings-beat-estimates-services-drive-top-line-growth?miRedirects=1&utm_source=openai))\n",
      "\n",
      "**Geographical Performance:**\n",
      "\n",
      "- **Greater China:** Sales declined by 11.1% to $18.51 billion, primarily due to reduced iPhone demand amid heightened competition. ([zacks.com](https://www.zacks.com/stock/news/2407281/apple-q1-earnings-beat-estimates-services-drive-top-line-growth?miRedirects=1&utm_source=openai))\n",
      "\n",
      "- **Europe and Japan:** These regions experienced significant growth, with sales increasing by 11.4% and 15.7%, respectively. ([zacks.com](https://www.zacks.com/stock/news/2407281/apple-q1-earnings-beat-estimates-services-drive-top-line-growth?miRedirects=1&utm_source=openai))\n",
      "\n",
      "**Strategic Initiatives:**\n",
      "\n",
      "Apple's integration of artificial intelligence (AI) features, branded as Apple Intelligence, has been a focal point. CEO Tim Cook highlighted that the iPhone 16 is experiencing strong sales in countries where Apple Intelligence features have been launched. The company plans to expand these features to additional languages and markets by April, aiming to bolster iPhone sales further. ([axios.com](https://www.axios.com/2025/01/30/iphone-16-sales-apple-intelligence-earnings-china?utm_source=openai))\n",
      "\n",
      "**Investor Outlook:**\n",
      "\n",
      "Despite challenges in the Chinese market, Apple's optimistic sales forecast for the upcoming quarter has positively influenced investor sentiment. The company anticipates low to mid-single-digit growth, suggesting a potential recovery in iPhone sales as AI features become more widely available. ([reuters.com](https://www.reuters.com/technology/apple-profit-tops-wall-street-target-even-iphone-china-sales-fall-short-2025-01-30/?utm_source=openai))\n",
      "\n",
      "\n",
      "## Apple's Q1 2025 Earnings and Market Response:\n",
      "- [Apple rises as sales forecast sparks iPhone revival optimism](https://www.reuters.com/technology/apple-shares-rise-europe-after-upbeat-sales-outlook-2025-01-31/?utm_source=openai)\n",
      "- [Apple Intelligence spurs iPhone 16 sales](https://www.axios.com/2025/01/30/iphone-16-sales-apple-intelligence-earnings-china?utm_source=openai)\n",
      "- [Apple shares rise after positive sales outlook signals iPhone recovery](https://www.reuters.com/technology/apple-profit-tops-wall-street-target-even-iphone-china-sales-fall-short-2025-01-30/?utm_source=openai) \n"
     ]
    }
   ],
   "source": [
    "# Create a vector store called \"Financial Statements\"\n",
    "vector_store = client.vector_stores.create(name=\"Financial Statements\")\n",
    "\n",
    "# Ready the files for upload to OpenAI\n",
    "file_paths = [\"goog-10k.pdf\", \"brka-10k.pdf\"]\n",
    "file_streams = [open(path, \"rb\") for path in file_paths]\n",
    "\n",
    "# Use the upload and poll SDK helper to upload the files, add them to the vector store,\n",
    "# and poll the status of the file batch for completion.\n",
    "file_batch = client.vector_stores.file_batches.upload_and_poll(\n",
    "  vector_store_id=vector_store.id, files=file_streams\n",
    ")\n",
    "\n",
    "# print the status and the file counts of the batch to see the result of this operation.\n",
    "print(file_batch.status)\n",
    "print(file_batch.file_counts)\n",
    "\n",
    "def get_response(query):\n",
    "    response = client.responses.create(\n",
    "        model=\"gpt-4o\",  \n",
    "        input=query,  \n",
    "        instructions=\"You are a financial analyst assistant. Provide insights based on financial statements and online sources.\",\n",
    "        tools=[  # Tools for file search and web search\n",
    "            {\n",
    "                \"type\": \"file_search\",  # File search tool\n",
    "                \"vector_store_ids\": [vector_store.id],  \n",
    "            },\n",
    "            {\n",
    "                \"type\": \"web_search_preview\",  # Web search tool\n",
    "                \"user_location\": {\n",
    "                    \"type\": \"approximate\",  # Approximate location for context\n",
    "                    \"city\": \"New York\",  # Example city \n",
    "                },\n",
    "            },\n",
    "        ],\n",
    "        stream=True,  # Enable streaming for real-time responses\n",
    "    )\n",
    "    \n",
    "    full_response = \"\"\n",
    "    for event in response:\n",
    "        if hasattr(event, \"text\"):  # Check if the event contains text\n",
    "            full_response += event.text  # Extract the text field directly\n",
    "        \n",
    "    return full_response\n",
    "\n",
    "# Example of calling the function\n",
    "query = \"What is the latest analysis on Apple's quarterly earnings?\"\n",
    "response = get_response(query)\n",
    "print(response)"
   ]
  },
  {
   "cell_type": "code",
   "execution_count": null,
   "id": "95614c2b",
   "metadata": {},
   "outputs": [],
   "source": []
  }
 ],
 "metadata": {
  "kernelspec": {
   "display_name": "Python 3",
   "language": "python",
   "name": "python3"
  },
  "language_info": {
   "codemirror_mode": {
    "name": "ipython",
    "version": 3
   },
   "file_extension": ".py",
   "mimetype": "text/x-python",
   "name": "python",
   "nbconvert_exporter": "python",
   "pygments_lexer": "ipython3",
   "version": "3.11.9"
  }
 },
 "nbformat": 4,
 "nbformat_minor": 5
}
