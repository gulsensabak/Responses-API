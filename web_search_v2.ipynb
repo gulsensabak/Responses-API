{
 "cells": [
  {
   "cell_type": "code",
   "execution_count": null,
   "id": "36589efd",
   "metadata": {},
   "outputs": [],
   "source": [
    "from openai import OpenAI\n",
    "\n",
    "client = OpenAI(api_key = \"sk-proj\")"
   ]
  },
  {
   "cell_type": "code",
   "execution_count": 2,
   "id": "c9256259",
   "metadata": {},
   "outputs": [
    {
     "name": "stdout",
     "output_type": "stream",
     "text": [
      "Granary Square in London's King's Cross area boasts a vibrant dining scene with a variety of restaurants catering to diverse tastes. Here are some notable establishments you might consider:\n",
      "\n",
      "**[Caravan King's Cross](https://www.google.com/maps/search/Caravan+King%27s+Cross%2C+London%2C+UK)**\n",
      "_London, UK_\n",
      "Known for its all-day dining and specialty coffee, offering a menu that blends global flavors with seasonal ingredients.\n",
      "\n",
      "**[Granary Square Brasserie](https://www.google.com/maps/search/Granary+Square+Brasserie%2C+London%2C+UK)**\n",
      "_London, UK_\n",
      "Offers a stylish setting with a menu featuring modern British and European dishes, ideal for both casual meals and special occasions.\n",
      "\n",
      "**[The Lighterman](https://www.google.com/maps/search/The+Lighterman%2C+London%2C+UK)**\n",
      "_London, UK_\n",
      "A contemporary pub with panoramic views of the canal, serving modern British cuisine and an extensive selection of drinks.\n",
      "\n",
      "**[Dishoom King's Cross](https://www.google.com/maps/search/Dishoom+King%27s+Cross%2C+London%2C+UK)**\n",
      "_London, UK_\n",
      "Celebrated for its Bombay-inspired décor and menu, offering a range of Indian dishes from breakfast to dinner.\n",
      "\n",
      "**[Arabica King's Cross](https://www.google.com/maps/search/Arabica+King%27s+Cross%2C+London%2C+UK)**\n",
      "_London, UK_\n",
      "Specializes in Middle Eastern cuisine, offering a variety of mezze and grilled dishes in a vibrant atmosphere.\n",
      "\n",
      "**[Granger & Co](https://www.google.com/maps/search/Granger+%26+Co%2C+London%2C+UK)**\n",
      "_London, UK_\n",
      "Known for its Australian-inspired menu, featuring fresh and healthy dishes in a bright and airy setting.\n",
      "\n",
      "These establishments offer a range of culinary experiences, from casual dining to more refined options, all within close proximity to Granary Square. \n"
     ]
    }
   ],
   "source": [
    "from openai import OpenAI\n",
    "client = OpenAI()\n",
    "\n",
    "# Create a web search response with a specific location\n",
    "# The location is set to London, UK\n",
    "response = client.responses.create(\n",
    "    model=\"gpt-4.1\",\n",
    "    # Define the tools to be used in the response\n",
    "    tools=[{\n",
    "        \"type\": \"web_search_preview\",\n",
    "        \"user_location\": {\n",
    "            \"type\": \"approximate\",\n",
    "            \"country\": \"GB\",\n",
    "            \"city\": \"London\",\n",
    "            \"region\": \"London\",\n",
    "        }\n",
    "    }],\n",
    "    input=\"What are the best restaurants around Granary Square?\",\n",
    ")\n",
    "\n",
    "print(response.output_text)"
   ]
  },
  {
   "cell_type": "code",
   "execution_count": 3,
   "id": "b1a30136",
   "metadata": {},
   "outputs": [
    {
     "name": "stdout",
     "output_type": "stream",
     "text": [
      "At the 97th Academy Awards held on March 2, 2025, \"Anora\" won the Oscar for Best Picture. Directed by Sean Baker, the film tells the story of a young woman from Brooklyn who marries the son of a Russian oligarch, only to face challenges when his parents seek to annul the marriage. ([abc7ny.com](https://abc7ny.com/post/oscars-2025-insertfilm-wins-best-picture-97th-academy-awards/15961261/?utm_source=openai)) \"Anora\" was the night's biggest winner, securing five Oscars, including Best Director for Baker and Best Actress for Mikey Madison. ([apnews.com](https://apnews.com/article/796ad6e41d869cc793db1488f5a75f06?utm_source=openai))\n",
      "\n",
      "\n",
      "## 'Anora' Triumphs at 97th Academy Awards:\n",
      "- [Oscars 2025: 'Anora' wins Best Picture and Director among five Academy Awards](https://www.reuters.com/world/us/oscars-2025-academy-awards-who-is-nominated-what-time-does-it-start-2025-03-02/?utm_source=openai)\n",
      "- [Indie movies win big at 2025 Oscars](https://www.axios.com/2025/03/03/oscars-academy-awards-anora-independent-films?utm_source=openai)\n",
      "- [The Latest: 'Anora' wins best picture at the 97th Academy Awards](https://apnews.com/article/796ad6e41d869cc793db1488f5a75f06?utm_source=openai) \n"
     ]
    }
   ],
   "source": [
    "from openai import OpenAI\n",
    "client = OpenAI()\n",
    "\n",
    "# Create a web search response with a specific context size\n",
    "# The context size is set to \"low\", which means the model will use a smaller amount of context for the search\n",
    "response = client.responses.create(\n",
    "    model=\"gpt-4.1\",\n",
    "    tools=[{\n",
    "        \"type\": \"web_search_preview\",\n",
    "        \"search_context_size\": \"low\",\n",
    "    }],\n",
    "    input=\"What movie won best picture in 2025?\",\n",
    ")\n",
    "\n",
    "print(response.output_text)"
   ]
  },
  {
   "cell_type": "code",
   "execution_count": null,
   "id": "5d5bc1f0",
   "metadata": {},
   "outputs": [],
   "source": []
  }
 ],
 "metadata": {
  "kernelspec": {
   "display_name": "Python 3",
   "language": "python",
   "name": "python3"
  },
  "language_info": {
   "codemirror_mode": {
    "name": "ipython",
    "version": 3
   },
   "file_extension": ".py",
   "mimetype": "text/x-python",
   "name": "python",
   "nbconvert_exporter": "python",
   "pygments_lexer": "ipython3",
   "version": "3.11.9"
  }
 },
 "nbformat": 4,
 "nbformat_minor": 5
}
